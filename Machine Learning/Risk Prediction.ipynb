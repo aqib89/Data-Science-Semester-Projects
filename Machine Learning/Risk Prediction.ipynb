{
 "cells": [
  {
   "cell_type": "markdown",
   "metadata": {},
   "source": [
    "# Aqib Javed \n",
    "## 18101101"
   ]
  },
  {
   "cell_type": "markdown",
   "metadata": {},
   "source": [
    "### Question 1(1) "
   ]
  },
  {
   "cell_type": "markdown",
   "metadata": {},
   "source": [
    "IMPORTING LIBRARIES"
   ]
  },
  {
   "cell_type": "code",
   "execution_count": 43,
   "metadata": {},
   "outputs": [],
   "source": [
    "from pandas import DataFrame, read_csv\n",
    "import matplotlib.pyplot as plt\n",
    "import pandas as pd \n",
    "import numpy as np\n",
    "import seaborn as sns \n",
    "\n",
    "file_name = \"trial.xlsx\"\n",
    "sheet_title = \"trial\"\n",
    "df = pd.read_excel(file_name ,  sheet_name =  sheet_title )"
   ]
  },
  {
   "cell_type": "code",
   "execution_count": 44,
   "metadata": {},
   "outputs": [
    {
     "name": "stdout",
     "output_type": "stream",
     "text": [
      "Rows in the Dataset - 776\n",
      "Coilumns in the Dataset - 18\n"
     ]
    }
   ],
   "source": [
    "shape = tuple(df.shape)\n",
    "print (\"Rows in the Dataset - \" + str(shape[0]))\n",
    "print (\"Coilumns in the Dataset - \" + str(shape[1]))"
   ]
  },
  {
   "cell_type": "code",
   "execution_count": 45,
   "metadata": {},
   "outputs": [
    {
     "data": {
      "text/html": [
       "<div>\n",
       "<style scoped>\n",
       "    .dataframe tbody tr th:only-of-type {\n",
       "        vertical-align: middle;\n",
       "    }\n",
       "\n",
       "    .dataframe tbody tr th {\n",
       "        vertical-align: top;\n",
       "    }\n",
       "\n",
       "    .dataframe thead th {\n",
       "        text-align: right;\n",
       "    }\n",
       "</style>\n",
       "<table border=\"1\" class=\"dataframe\">\n",
       "  <thead>\n",
       "    <tr style=\"text-align: right;\">\n",
       "      <th></th>\n",
       "      <th>Sector_score</th>\n",
       "      <th>LOCATION_ID</th>\n",
       "      <th>PARA_A</th>\n",
       "      <th>SCORE_A</th>\n",
       "      <th>PARA_B</th>\n",
       "      <th>SCORE_B</th>\n",
       "      <th>TOTAL</th>\n",
       "      <th>numbers</th>\n",
       "      <th>Marks</th>\n",
       "      <th>Money_Value</th>\n",
       "      <th>MONEY_Marks</th>\n",
       "      <th>District</th>\n",
       "      <th>Loss</th>\n",
       "      <th>LOSS_SCORE</th>\n",
       "      <th>History</th>\n",
       "      <th>History_score</th>\n",
       "      <th>Score</th>\n",
       "      <th>Risk</th>\n",
       "    </tr>\n",
       "  </thead>\n",
       "  <tbody>\n",
       "    <tr>\n",
       "      <th>0</th>\n",
       "      <td>3.89</td>\n",
       "      <td>23</td>\n",
       "      <td>4.18</td>\n",
       "      <td>6</td>\n",
       "      <td>2.50</td>\n",
       "      <td>2</td>\n",
       "      <td>6.68</td>\n",
       "      <td>5.0</td>\n",
       "      <td>2</td>\n",
       "      <td>3.38</td>\n",
       "      <td>2</td>\n",
       "      <td>2</td>\n",
       "      <td>0</td>\n",
       "      <td>2</td>\n",
       "      <td>0</td>\n",
       "      <td>2</td>\n",
       "      <td>2.4</td>\n",
       "      <td>1</td>\n",
       "    </tr>\n",
       "    <tr>\n",
       "      <th>1</th>\n",
       "      <td>3.89</td>\n",
       "      <td>6</td>\n",
       "      <td>0.00</td>\n",
       "      <td>2</td>\n",
       "      <td>4.83</td>\n",
       "      <td>2</td>\n",
       "      <td>4.83</td>\n",
       "      <td>5.0</td>\n",
       "      <td>2</td>\n",
       "      <td>0.94</td>\n",
       "      <td>2</td>\n",
       "      <td>2</td>\n",
       "      <td>0</td>\n",
       "      <td>2</td>\n",
       "      <td>0</td>\n",
       "      <td>2</td>\n",
       "      <td>2.0</td>\n",
       "      <td>0</td>\n",
       "    </tr>\n",
       "    <tr>\n",
       "      <th>2</th>\n",
       "      <td>3.89</td>\n",
       "      <td>6</td>\n",
       "      <td>0.51</td>\n",
       "      <td>2</td>\n",
       "      <td>0.23</td>\n",
       "      <td>2</td>\n",
       "      <td>0.74</td>\n",
       "      <td>5.0</td>\n",
       "      <td>2</td>\n",
       "      <td>0.00</td>\n",
       "      <td>2</td>\n",
       "      <td>2</td>\n",
       "      <td>0</td>\n",
       "      <td>2</td>\n",
       "      <td>0</td>\n",
       "      <td>2</td>\n",
       "      <td>2.0</td>\n",
       "      <td>0</td>\n",
       "    </tr>\n",
       "    <tr>\n",
       "      <th>3</th>\n",
       "      <td>3.89</td>\n",
       "      <td>6</td>\n",
       "      <td>0.00</td>\n",
       "      <td>2</td>\n",
       "      <td>10.80</td>\n",
       "      <td>6</td>\n",
       "      <td>10.80</td>\n",
       "      <td>6.0</td>\n",
       "      <td>6</td>\n",
       "      <td>11.75</td>\n",
       "      <td>6</td>\n",
       "      <td>2</td>\n",
       "      <td>0</td>\n",
       "      <td>2</td>\n",
       "      <td>0</td>\n",
       "      <td>2</td>\n",
       "      <td>4.4</td>\n",
       "      <td>1</td>\n",
       "    </tr>\n",
       "    <tr>\n",
       "      <th>4</th>\n",
       "      <td>3.89</td>\n",
       "      <td>6</td>\n",
       "      <td>0.00</td>\n",
       "      <td>2</td>\n",
       "      <td>0.08</td>\n",
       "      <td>2</td>\n",
       "      <td>0.08</td>\n",
       "      <td>5.0</td>\n",
       "      <td>2</td>\n",
       "      <td>0.00</td>\n",
       "      <td>2</td>\n",
       "      <td>2</td>\n",
       "      <td>0</td>\n",
       "      <td>2</td>\n",
       "      <td>0</td>\n",
       "      <td>2</td>\n",
       "      <td>2.0</td>\n",
       "      <td>0</td>\n",
       "    </tr>\n",
       "  </tbody>\n",
       "</table>\n",
       "</div>"
      ],
      "text/plain": [
       "   Sector_score LOCATION_ID  PARA_A  SCORE_A  PARA_B  SCORE_B  TOTAL  numbers  \\\n",
       "0          3.89          23    4.18        6    2.50        2   6.68      5.0   \n",
       "1          3.89           6    0.00        2    4.83        2   4.83      5.0   \n",
       "2          3.89           6    0.51        2    0.23        2   0.74      5.0   \n",
       "3          3.89           6    0.00        2   10.80        6  10.80      6.0   \n",
       "4          3.89           6    0.00        2    0.08        2   0.08      5.0   \n",
       "\n",
       "   Marks  Money_Value  MONEY_Marks  District  Loss  LOSS_SCORE  History  \\\n",
       "0      2         3.38            2         2     0           2        0   \n",
       "1      2         0.94            2         2     0           2        0   \n",
       "2      2         0.00            2         2     0           2        0   \n",
       "3      6        11.75            6         2     0           2        0   \n",
       "4      2         0.00            2         2     0           2        0   \n",
       "\n",
       "   History_score  Score  Risk  \n",
       "0              2    2.4     1  \n",
       "1              2    2.0     0  \n",
       "2              2    2.0     0  \n",
       "3              2    4.4     1  \n",
       "4              2    2.0     0  "
      ]
     },
     "execution_count": 45,
     "metadata": {},
     "output_type": "execute_result"
    }
   ],
   "source": [
    "df.head()"
   ]
  },
  {
   "cell_type": "code",
   "execution_count": 46,
   "metadata": {},
   "outputs": [
    {
     "name": "stdout",
     "output_type": "stream",
     "text": [
      "SUMMARY STATISTICS - Risk \n",
      "\n",
      "count    776.000000\n",
      "mean       0.626289\n",
      "std        0.484100\n",
      "min        0.000000\n",
      "25%        0.000000\n",
      "50%        1.000000\n",
      "75%        1.000000\n",
      "max        1.000000\n",
      "Name: Risk, dtype: float64\n"
     ]
    }
   ],
   "source": [
    "new_data = df\n",
    "target_column = \"Risk\"\n",
    "print(\"SUMMARY STATISTICS - Risk \\n\")\n",
    "print(new_data.Risk.describe())\n",
    "\n",
    "def transform_target(row) :\n",
    "    if row[target_column] == 0 :\n",
    "        return 0\n",
    "    else :\n",
    "        return 1 ##  Since median in 3 , the NaN will be tranformed into 3\n",
    "    \n",
    "target_transform = new_data.apply(lambda row : transform_target(row), axis=1)\n",
    "\n",
    "new_data = new_data.drop(columns=[\"Risk\"])\n"
   ]
  },
  {
   "cell_type": "code",
   "execution_count": 47,
   "metadata": {},
   "outputs": [
    {
     "name": "stdout",
     "output_type": "stream",
     "text": [
      "Sectors with Risk        - 486\n",
      "Sectors without Risk  -386\n"
     ]
    }
   ],
   "source": [
    "print(\"Sectors with Risk        - \" + str(target_transform.sum()))\n",
    "print(\"Sectors without Risk  \" + str( 100 - int(target_transform.sum())) )"
   ]
  },
  {
   "cell_type": "code",
   "execution_count": 48,
   "metadata": {},
   "outputs": [
    {
     "data": {
      "text/html": [
       "<div>\n",
       "<style scoped>\n",
       "    .dataframe tbody tr th:only-of-type {\n",
       "        vertical-align: middle;\n",
       "    }\n",
       "\n",
       "    .dataframe tbody tr th {\n",
       "        vertical-align: top;\n",
       "    }\n",
       "\n",
       "    .dataframe thead th {\n",
       "        text-align: right;\n",
       "    }\n",
       "</style>\n",
       "<table border=\"1\" class=\"dataframe\">\n",
       "  <thead>\n",
       "    <tr style=\"text-align: right;\">\n",
       "      <th></th>\n",
       "      <th>count</th>\n",
       "      <th>mean</th>\n",
       "      <th>std</th>\n",
       "      <th>min</th>\n",
       "      <th>25%</th>\n",
       "      <th>50%</th>\n",
       "      <th>75%</th>\n",
       "      <th>max</th>\n",
       "      <th>Var</th>\n",
       "      <th>Type</th>\n",
       "    </tr>\n",
       "  </thead>\n",
       "  <tbody>\n",
       "    <tr>\n",
       "      <th>Loss</th>\n",
       "      <td>776</td>\n",
       "      <td>0.0296392</td>\n",
       "      <td>0.18428</td>\n",
       "      <td>0</td>\n",
       "      <td>0</td>\n",
       "      <td>0</td>\n",
       "      <td>0</td>\n",
       "      <td>2</td>\n",
       "      <td>0.0339591</td>\n",
       "      <td>int64</td>\n",
       "    </tr>\n",
       "    <tr>\n",
       "      <th>numbers</th>\n",
       "      <td>776</td>\n",
       "      <td>5.06765</td>\n",
       "      <td>0.264449</td>\n",
       "      <td>5</td>\n",
       "      <td>5</td>\n",
       "      <td>5</td>\n",
       "      <td>5</td>\n",
       "      <td>9</td>\n",
       "      <td>0.0699331</td>\n",
       "      <td>float64</td>\n",
       "    </tr>\n",
       "    <tr>\n",
       "      <th>LOSS_SCORE</th>\n",
       "      <td>776</td>\n",
       "      <td>2.06186</td>\n",
       "      <td>0.37508</td>\n",
       "      <td>2</td>\n",
       "      <td>2</td>\n",
       "      <td>2</td>\n",
       "      <td>2</td>\n",
       "      <td>6</td>\n",
       "      <td>0.140685</td>\n",
       "      <td>int64</td>\n",
       "    </tr>\n",
       "    <tr>\n",
       "      <th>History</th>\n",
       "      <td>776</td>\n",
       "      <td>0.104381</td>\n",
       "      <td>0.531031</td>\n",
       "      <td>0</td>\n",
       "      <td>0</td>\n",
       "      <td>0</td>\n",
       "      <td>0</td>\n",
       "      <td>9</td>\n",
       "      <td>0.281994</td>\n",
       "      <td>int64</td>\n",
       "    </tr>\n",
       "    <tr>\n",
       "      <th>History_score</th>\n",
       "      <td>776</td>\n",
       "      <td>2.16753</td>\n",
       "      <td>0.679869</td>\n",
       "      <td>2</td>\n",
       "      <td>2</td>\n",
       "      <td>2</td>\n",
       "      <td>2</td>\n",
       "      <td>6</td>\n",
       "      <td>0.462221</td>\n",
       "      <td>int64</td>\n",
       "    </tr>\n",
       "    <tr>\n",
       "      <th>Marks</th>\n",
       "      <td>776</td>\n",
       "      <td>2.23711</td>\n",
       "      <td>0.803517</td>\n",
       "      <td>2</td>\n",
       "      <td>2</td>\n",
       "      <td>2</td>\n",
       "      <td>2</td>\n",
       "      <td>6</td>\n",
       "      <td>0.64564</td>\n",
       "      <td>int64</td>\n",
       "    </tr>\n",
       "    <tr>\n",
       "      <th>Score</th>\n",
       "      <td>776</td>\n",
       "      <td>2.70258</td>\n",
       "      <td>0.858923</td>\n",
       "      <td>2</td>\n",
       "      <td>2</td>\n",
       "      <td>2.4</td>\n",
       "      <td>3.25</td>\n",
       "      <td>5.2</td>\n",
       "      <td>0.737748</td>\n",
       "      <td>float64</td>\n",
       "    </tr>\n",
       "    <tr>\n",
       "      <th>District</th>\n",
       "      <td>776</td>\n",
       "      <td>2.50515</td>\n",
       "      <td>1.22868</td>\n",
       "      <td>2</td>\n",
       "      <td>2</td>\n",
       "      <td>2</td>\n",
       "      <td>2</td>\n",
       "      <td>6</td>\n",
       "      <td>1.50965</td>\n",
       "      <td>int64</td>\n",
       "    </tr>\n",
       "    <tr>\n",
       "      <th>MONEY_Marks</th>\n",
       "      <td>776</td>\n",
       "      <td>2.90979</td>\n",
       "      <td>1.59745</td>\n",
       "      <td>2</td>\n",
       "      <td>2</td>\n",
       "      <td>2</td>\n",
       "      <td>4</td>\n",
       "      <td>6</td>\n",
       "      <td>2.55185</td>\n",
       "      <td>int64</td>\n",
       "    </tr>\n",
       "    <tr>\n",
       "      <th>SCORE_B</th>\n",
       "      <td>776</td>\n",
       "      <td>3.13144</td>\n",
       "      <td>1.69804</td>\n",
       "      <td>2</td>\n",
       "      <td>2</td>\n",
       "      <td>2</td>\n",
       "      <td>4</td>\n",
       "      <td>6</td>\n",
       "      <td>2.88335</td>\n",
       "      <td>int64</td>\n",
       "    </tr>\n",
       "  </tbody>\n",
       "</table>\n",
       "</div>"
      ],
      "text/plain": [
       "              count       mean       std min 25%  50%   75%  max        Var  \\\n",
       "Loss            776  0.0296392   0.18428   0   0    0     0    2  0.0339591   \n",
       "numbers         776    5.06765  0.264449   5   5    5     5    9  0.0699331   \n",
       "LOSS_SCORE      776    2.06186   0.37508   2   2    2     2    6   0.140685   \n",
       "History         776   0.104381  0.531031   0   0    0     0    9   0.281994   \n",
       "History_score   776    2.16753  0.679869   2   2    2     2    6   0.462221   \n",
       "Marks           776    2.23711  0.803517   2   2    2     2    6    0.64564   \n",
       "Score           776    2.70258  0.858923   2   2  2.4  3.25  5.2   0.737748   \n",
       "District        776    2.50515   1.22868   2   2    2     2    6    1.50965   \n",
       "MONEY_Marks     776    2.90979   1.59745   2   2    2     4    6    2.55185   \n",
       "SCORE_B         776    3.13144   1.69804   2   2    2     4    6    2.88335   \n",
       "\n",
       "                  Type  \n",
       "Loss             int64  \n",
       "numbers        float64  \n",
       "LOSS_SCORE       int64  \n",
       "History          int64  \n",
       "History_score    int64  \n",
       "Marks            int64  \n",
       "Score          float64  \n",
       "District         int64  \n",
       "MONEY_Marks      int64  \n",
       "SCORE_B          int64  "
      ]
     },
     "execution_count": 48,
     "metadata": {},
     "output_type": "execute_result"
    }
   ],
   "source": [
    "## Looking at the summary statistics\n",
    "new_data = new_data.drop(columns=[\"LOCATION_ID\"])\n",
    "\n",
    "summary_statistics = new_data.describe()\n",
    "summary_statistics.loc[\"Var\"] = new_data.var()\n",
    "summary_statistics.loc[\"Type\"] = new_data.dtypes\n",
    "summary_statistics = summary_statistics.transpose()\n",
    "summary_statistics.sort_values(by = \"Var\").head(10)\n"
   ]
  },
  {
   "cell_type": "code",
   "execution_count": 49,
   "metadata": {},
   "outputs": [
    {
     "name": "stdout",
     "output_type": "stream",
     "text": [
      "Number of columns having variance < 5 - 11\n"
     ]
    }
   ],
   "source": [
    "columns_to_drop = list( summary_statistics.loc[summary_statistics[\"Var\"] <=5 ].index )\n",
    "new_data = new_data.drop(columns = columns_to_drop)\n",
    "print(\"Number of columns having variance < 5 - \" + str(len(columns_to_drop) ))"
   ]
  },
  {
   "cell_type": "code",
   "execution_count": 50,
   "metadata": {},
   "outputs": [
    {
     "name": "stdout",
     "output_type": "stream",
     "text": [
      "Number of columns having correlation > +0.90 - 1\n"
     ]
    }
   ],
   "source": [
    "corr_matrix = new_data.corr().abs()\n",
    "corr_matrix_upper = corr_matrix.where(np.triu(np.ones(corr_matrix.shape), k=1).astype(np.bool))\n",
    "to_drop = [column for column in corr_matrix_upper.columns if any(corr_matrix_upper[column] > 0.9)]\n",
    "print(\"Number of columns having correlation > +0.90 - \" + str(len(to_drop) ))\n",
    "new_data = new_data.drop(columns=to_drop)"
   ]
  },
  {
   "cell_type": "code",
   "execution_count": 51,
   "metadata": {},
   "outputs": [
    {
     "name": "stdout",
     "output_type": "stream",
     "text": [
      "Number of columns having zero values percentage > 70% - 3\n"
     ]
    },
    {
     "name": "stderr",
     "output_type": "stream",
     "text": [
      "C:\\ProgramData\\Anaconda3\\lib\\site-packages\\ipykernel_launcher.py:3: FutureWarning: Sorting because non-concatenation axis is not aligned. A future version\n",
      "of pandas will change to not sort by default.\n",
      "\n",
      "To accept the future behavior, pass 'sort=True'.\n",
      "\n",
      "To retain the current behavior and silence the warning, pass sort=False\n",
      "\n",
      "  This is separate from the ipykernel package so we can avoid doing imports until\n"
     ]
    }
   ],
   "source": [
    "column_skewness = new_data.skew().sort_values(ascending = False)\n",
    "zero_columns_df = ( len(new_data) - new_data.fillna(0).astype(bool).sum() ).sort_values(ascending = False )\n",
    "features_removal_df = pd.concat([zero_columns_df,column_skewness],axis=1)\n",
    "features_removal_df.sort_values(by=0 , ascending=False).head(10)\n",
    "columns_remove = list(zero_columns_df[ zero_columns_df > 70 ].index)\n",
    "print(\"Number of columns having zero values percentage > 70% - \" + str(len(columns_remove)) )"
   ]
  },
  {
   "cell_type": "code",
   "execution_count": 52,
   "metadata": {},
   "outputs": [
    {
     "name": "stdout",
     "output_type": "stream",
     "text": [
      "\n",
      "Final # of Features - 4\n"
     ]
    },
    {
     "data": {
      "text/html": [
       "<div>\n",
       "<style scoped>\n",
       "    .dataframe tbody tr th:only-of-type {\n",
       "        vertical-align: middle;\n",
       "    }\n",
       "\n",
       "    .dataframe tbody tr th {\n",
       "        vertical-align: top;\n",
       "    }\n",
       "\n",
       "    .dataframe thead th {\n",
       "        text-align: right;\n",
       "    }\n",
       "</style>\n",
       "<table border=\"1\" class=\"dataframe\">\n",
       "  <thead>\n",
       "    <tr style=\"text-align: right;\">\n",
       "      <th></th>\n",
       "      <th>count</th>\n",
       "      <th>mean</th>\n",
       "      <th>std</th>\n",
       "      <th>min</th>\n",
       "      <th>25%</th>\n",
       "      <th>50%</th>\n",
       "      <th>75%</th>\n",
       "      <th>max</th>\n",
       "      <th>Var</th>\n",
       "      <th>Type</th>\n",
       "    </tr>\n",
       "  </thead>\n",
       "  <tbody>\n",
       "    <tr>\n",
       "      <th>Sector_score</th>\n",
       "      <td>776</td>\n",
       "      <td>20.1845</td>\n",
       "      <td>24.319</td>\n",
       "      <td>1.85</td>\n",
       "      <td>2.37</td>\n",
       "      <td>3.89</td>\n",
       "      <td>55.57</td>\n",
       "      <td>59.85</td>\n",
       "      <td>591.415</td>\n",
       "      <td>float64</td>\n",
       "    </tr>\n",
       "    <tr>\n",
       "      <th>PARA_A</th>\n",
       "      <td>776</td>\n",
       "      <td>2.45019</td>\n",
       "      <td>5.67887</td>\n",
       "      <td>0</td>\n",
       "      <td>0.21</td>\n",
       "      <td>0.875</td>\n",
       "      <td>2.48</td>\n",
       "      <td>85</td>\n",
       "      <td>32.2496</td>\n",
       "      <td>float64</td>\n",
       "    </tr>\n",
       "    <tr>\n",
       "      <th>PARA_B</th>\n",
       "      <td>776</td>\n",
       "      <td>10.8</td>\n",
       "      <td>50.0836</td>\n",
       "      <td>0</td>\n",
       "      <td>0</td>\n",
       "      <td>0.405</td>\n",
       "      <td>4.16</td>\n",
       "      <td>1264.63</td>\n",
       "      <td>2508.37</td>\n",
       "      <td>float64</td>\n",
       "    </tr>\n",
       "    <tr>\n",
       "      <th>Money_Value</th>\n",
       "      <td>775</td>\n",
       "      <td>14.1376</td>\n",
       "      <td>66.6065</td>\n",
       "      <td>0</td>\n",
       "      <td>0</td>\n",
       "      <td>0.09</td>\n",
       "      <td>5.595</td>\n",
       "      <td>935.03</td>\n",
       "      <td>4436.43</td>\n",
       "      <td>float64</td>\n",
       "    </tr>\n",
       "  </tbody>\n",
       "</table>\n",
       "</div>"
      ],
      "text/plain": [
       "             count     mean      std   min   25%    50%    75%      max  \\\n",
       "Sector_score   776  20.1845   24.319  1.85  2.37   3.89  55.57    59.85   \n",
       "PARA_A         776  2.45019  5.67887     0  0.21  0.875   2.48       85   \n",
       "PARA_B         776     10.8  50.0836     0     0  0.405   4.16  1264.63   \n",
       "Money_Value    775  14.1376  66.6065     0     0   0.09  5.595   935.03   \n",
       "\n",
       "                  Var     Type  \n",
       "Sector_score  591.415  float64  \n",
       "PARA_A        32.2496  float64  \n",
       "PARA_B        2508.37  float64  \n",
       "Money_Value   4436.43  float64  "
      ]
     },
     "execution_count": 52,
     "metadata": {},
     "output_type": "execute_result"
    }
   ],
   "source": [
    "print(\"\\nFinal # of Features - \" + str(len(list(new_data))))\n",
    "\n",
    "summary_statistics.loc[list(new_data)]"
   ]
  },
  {
   "cell_type": "code",
   "execution_count": 53,
   "metadata": {},
   "outputs": [
    {
     "name": "stdout",
     "output_type": "stream",
     "text": [
      "\n",
      "Columns Containing Missing Values = 1\n",
      "\n",
      "Money_Value\n",
      "Imputing missing values with Median \n",
      "\n",
      "Rows in the Imputed Dataset - 776\n",
      "Coilumns in the Imputed Dataset - 4\n"
     ]
    }
   ],
   "source": [
    "nullValues = new_data.isna().sum()\n",
    "columns_with_null = list(nullValues[nullValues > 0].index)\n",
    "print(\"\\nColumns Containing Missing Values = \" + str(len(columns_with_null)) + \"\\n\")\n",
    "print(\"\\n\".join(columns_with_null))\n",
    "\n",
    "print(\"Imputing missing values with Median \\n\")\n",
    "new_data_imputed = new_data\n",
    "new_data_imputed.fillna(new_data_imputed.median(), inplace=True)\n",
    "\n",
    "shape = tuple(new_data_imputed.shape)\n",
    "print (\"Rows in the Imputed Dataset - \" + str(shape[0]))\n",
    "print (\"Coilumns in the Imputed Dataset - \" + str(shape[1]))"
   ]
  },
  {
   "cell_type": "code",
   "execution_count": 54,
   "metadata": {},
   "outputs": [
    {
     "name": "stdout",
     "output_type": "stream",
     "text": [
      "\n",
      "Imputed and MIX Max Tranformation Variable Summary\n"
     ]
    },
    {
     "data": {
      "text/html": [
       "<div>\n",
       "<style scoped>\n",
       "    .dataframe tbody tr th:only-of-type {\n",
       "        vertical-align: middle;\n",
       "    }\n",
       "\n",
       "    .dataframe tbody tr th {\n",
       "        vertical-align: top;\n",
       "    }\n",
       "\n",
       "    .dataframe thead th {\n",
       "        text-align: right;\n",
       "    }\n",
       "</style>\n",
       "<table border=\"1\" class=\"dataframe\">\n",
       "  <thead>\n",
       "    <tr style=\"text-align: right;\">\n",
       "      <th></th>\n",
       "      <th>count</th>\n",
       "      <th>mean</th>\n",
       "      <th>std</th>\n",
       "      <th>min</th>\n",
       "      <th>25%</th>\n",
       "      <th>50%</th>\n",
       "      <th>75%</th>\n",
       "      <th>max</th>\n",
       "    </tr>\n",
       "  </thead>\n",
       "  <tbody>\n",
       "    <tr>\n",
       "      <th>Sector_score</th>\n",
       "      <td>776.0</td>\n",
       "      <td>0.316113</td>\n",
       "      <td>0.419293</td>\n",
       "      <td>0.0</td>\n",
       "      <td>0.008966</td>\n",
       "      <td>0.035172</td>\n",
       "      <td>0.926207</td>\n",
       "      <td>1.0</td>\n",
       "    </tr>\n",
       "    <tr>\n",
       "      <th>PARA_A</th>\n",
       "      <td>776.0</td>\n",
       "      <td>0.028826</td>\n",
       "      <td>0.066810</td>\n",
       "      <td>0.0</td>\n",
       "      <td>0.002471</td>\n",
       "      <td>0.010294</td>\n",
       "      <td>0.029176</td>\n",
       "      <td>1.0</td>\n",
       "    </tr>\n",
       "    <tr>\n",
       "      <th>PARA_B</th>\n",
       "      <td>776.0</td>\n",
       "      <td>0.008540</td>\n",
       "      <td>0.039603</td>\n",
       "      <td>0.0</td>\n",
       "      <td>0.000000</td>\n",
       "      <td>0.000320</td>\n",
       "      <td>0.003289</td>\n",
       "      <td>1.0</td>\n",
       "    </tr>\n",
       "    <tr>\n",
       "      <th>Money_Value</th>\n",
       "      <td>776.0</td>\n",
       "      <td>0.015101</td>\n",
       "      <td>0.071191</td>\n",
       "      <td>0.0</td>\n",
       "      <td>0.000000</td>\n",
       "      <td>0.000096</td>\n",
       "      <td>0.005976</td>\n",
       "      <td>1.0</td>\n",
       "    </tr>\n",
       "  </tbody>\n",
       "</table>\n",
       "</div>"
      ],
      "text/plain": [
       "              count      mean       std  min       25%       50%       75%  \\\n",
       "Sector_score  776.0  0.316113  0.419293  0.0  0.008966  0.035172  0.926207   \n",
       "PARA_A        776.0  0.028826  0.066810  0.0  0.002471  0.010294  0.029176   \n",
       "PARA_B        776.0  0.008540  0.039603  0.0  0.000000  0.000320  0.003289   \n",
       "Money_Value   776.0  0.015101  0.071191  0.0  0.000000  0.000096  0.005976   \n",
       "\n",
       "              max  \n",
       "Sector_score  1.0  \n",
       "PARA_A        1.0  \n",
       "PARA_B        1.0  \n",
       "Money_Value   1.0  "
      ]
     },
     "execution_count": 54,
     "metadata": {},
     "output_type": "execute_result"
    }
   ],
   "source": [
    "from sklearn.preprocessing import MinMaxScaler\n",
    "scaler = MinMaxScaler()\n",
    "col_names = list(new_data_imputed.columns)\n",
    "new_data_imputed[col_names] = scaler.fit_transform(new_data_imputed[col_names])\n",
    "print(\"\\nImputed and MIX Max Tranformation Variable Summary\")\n",
    "new_data_imputed.describe().transpose().head(10)"
   ]
  },
  {
   "cell_type": "code",
   "execution_count": 55,
   "metadata": {},
   "outputs": [
    {
     "data": {
      "text/plain": [
       "<seaborn.axisgrid.PairGrid at 0x4adcf60>"
      ]
     },
     "execution_count": 55,
     "metadata": {},
     "output_type": "execute_result"
    },
    {
     "data": {
      "image/png": "[encoded data removed]",
      "text/plain": [
       "<Figure size 540x540 with 12 Axes>"
      ]
     },
     "metadata": {},
     "output_type": "display_data"
    }
   ],
   "source": [
    "variables_of_interest = [ 'Sector_score','PARA_A','Money_Value']\n",
    "sns.pairplot(new_data[variables_of_interest])"
   ]
  },
  {
   "cell_type": "markdown",
   "metadata": {},
   "source": [
    "### Part 2 "
   ]
  },
  {
   "cell_type": "code",
   "execution_count": 59,
   "metadata": {},
   "outputs": [],
   "source": [
    "import matplotlib.pyplot as plt  \n",
    "import pandas as pd  \n",
    "%matplotlib inline\n",
    "import numpy as np  \n",
    "\n",
    "sector_data = new_data_imputed"
   ]
  },
  {
   "cell_type": "code",
   "execution_count": 60,
   "metadata": {},
   "outputs": [],
   "source": [
    "sector_data=sector_data.drop('Sector_score',axis=1)"
   ]
  },
  {
   "cell_type": "code",
   "execution_count": 62,
   "metadata": {},
   "outputs": [
    {
     "data": {
      "image/png": "[encoded data removed]",
      "text/plain": [
       "<Figure size 720x504 with 1 Axes>"
      ]
     },
     "metadata": {},
     "output_type": "display_data"
    }
   ],
   "source": [
    "import scipy.cluster.hierarchy as shc\n",
    "\n",
    "plt.figure(figsize=(10, 7))  \n",
    "plt.title(\"Customer Dendograms\")  \n",
    "dend = shc.dendrogram(shc.linkage(sector_data, method='ward'))  "
   ]
  },
  {
   "cell_type": "code",
   "execution_count": 64,
   "metadata": {},
   "outputs": [
    {
     "name": "stdout",
     "output_type": "stream",
     "text": [
      "[2 2 2 2 2 2 2 1 1 2 2 1 2 2 2 2 2 2 2 2 2 2 1 2 2 2 2 2 2 2 2 1 2 2 2 2 1\n",
      " 2 1 0 2 2 2 2 2 2 1 2 2 1 2 2 2 2 2 2 2 1 2 2 2 2 2 2 2 1 2 1 2 2 2 1 2 1\n",
      " 2 1 2 2 2 2 2 0 2 2 2 1 2 2 1 2 2 2 2 1 2 2 2 2 2 2 2 2 2 2 2 2 2 2 2 2 2\n",
      " 2 1 2 2 2 2 2 2 2 1 2 2 1 2 1 2 1 1 2 1 2 2 2 1 1 2 2 1 1 1 1 2 2 1 2 2 2\n",
      " 2 2 2 1 1 1 2 1 1 1 1 2 2 2 2 2 2 2 1 2 2 2 1 2 2 2 2 2 2 2 2 2 2 2 2 2 2\n",
      " 2 2 2 2 2 2 2 2 2 2 2 2 2 2 2 2 2 2 1 2 2 2 2 2 2 2 2 2 2 2 2 2 2 2 2 2 1\n",
      " 2 2 2 1 2 2 2 2 2 2 2 2 2 2 2 2 2 2 2 3 2 2 2 2 2 0 2 2 2 2 2 2 2 2 2 2 2\n",
      " 2 2 2 2 2 2 2 2 2 2 2 2 2 2 2 2 2 2 2 2 2 2 2 2 2 2 2 2 2 2 2 2 2 2 2 2 2\n",
      " 2 2 2 2 2 2 2 2 2 2 2 2 2 2 2 2 2 2 2 2 2 2 2 2 2 2 2 2 2 2 2 2 2 2 2 2 2\n",
      " 2 2 2 2 2 2 2 2 2 0 2 2 2 2 2 2 2 2 2 2 2 2 2 2 2 2 2 2 2 2 2 2 2 2 2 1 2\n",
      " 2 2 2 2 2 2 2 2 2 2 2 2 2 2 2 2 2 2 2 1 2 1 2 2 1 2 2 2 2 2 1 1 2 2 2 2 2\n",
      " 1 2 2 2 2 1 2 2 2 2 2 2 2 2 2 2 2 1 1 2 2 2 2 2 1 2 2 2 2 2 2 2 2 2 2 2 2\n",
      " 2 1 2 1 2 2 2 2 2 2 2 2 2 2 2 2 2 2 2 2 2 2 2 4 2 2 2 2 2 2 2 2 2 2 2 2 2\n",
      " 2 2 1 2 2 1 2 2 2 2 2 2 2 1 1 2 2 2 2 2 2 2 2 2 2 2 2 2 4 2 2 2 2 2 2 2 2\n",
      " 2 2 2 2 2 2 2 2 2 2 2 2 2 2 2 2 2 2 2 2 2 2 2 2 2 2 2 2 2 2 2 2 2 2 2 2 2\n",
      " 2 2 2 2 2 2 2 2 2 2 2 2 2 2 2 2 2 2 2 2 2 2 2 2 2 2 2 2 2 1 2 2 2 2 2 2 2\n",
      " 2 2 2 2 2 2 2 2 2 2 2 2 2 2 2 2 2 2 2 2 2 2 2 2 2 2 2 2 2 2 2 2 2 2 2 2 2\n",
      " 2 2 2 2 2 2 2 2 2 2 2 2 2 2 2 2 2 2 2 2 2 2 2 2 2 2 2 2 2 2 2 2 2 2 2 2 2\n",
      " 2 2 2 2 2 2 2 2 2 2 2 2 2 2 2 2 2 2 2 2 2 2 2 2 2 2 2 2 2 2 2 2 2 2 2 2 2\n",
      " 2 2 2 2 2 2 2 2 2 2 2 2 2 2 2 2 2 2 2 2 2 2 2 2 2 2 2 2 2 2 2 2 2 2 2 2 2\n",
      " 2 2 2 2 2 2 2 2 2 2 2 2 2 2 2 2 2 2 2 2 2 2 2 2 2 2 2 2 2 2 2 2 2 2 2 2]\n"
     ]
    }
   ],
   "source": [
    "from sklearn.cluster import AgglomerativeClustering\n",
    "\n",
    "cluster = AgglomerativeClustering(n_clusters=5, affinity='euclidean', linkage='ward') \n",
    "cluster.fit_predict(sector_data)  \n",
    "print(cluster.labels_)"
   ]
  },
  {
   "cell_type": "code",
   "execution_count": 65,
   "metadata": {},
   "outputs": [
    {
     "data": {
      "image/png": "[encoded data removed]",
      "text/plain": [
       "<Figure size 432x288 with 1 Axes>"
      ]
     },
     "metadata": {},
     "output_type": "display_data"
    }
   ],
   "source": [
    "from sklearn.cluster import KMeans\n",
    "from sklearn import metrics\n",
    "from scipy.spatial.distance import cdist\n",
    "import numpy as np\n",
    "import matplotlib.pyplot as plt\n",
    "X=sector_data\n",
    "distortions = []\n",
    "K = range(1,10)\n",
    "for k in K:\n",
    "    kmeanModel = KMeans(n_clusters=k).fit(X)\n",
    "    kmeanModel.fit(X)\n",
    "    distortions.append(sum(np.min(cdist(X, kmeanModel.cluster_centers_, 'euclidean'), axis=1)) / X.shape[0])\n",
    "\n",
    "# Plot the elbow\n",
    "plt.plot(K, distortions, 'bx-')\n",
    "plt.xlabel('k')\n",
    "plt.ylabel('Distortion')\n",
    "plt.title('The Elbow Method showing the optimal k')\n",
    "plt.show()"
   ]
  },
  {
   "cell_type": "code",
   "execution_count": 66,
   "metadata": {},
   "outputs": [],
   "source": [
    "kmeanModel = KMeans(n_clusters=4).fit(X)"
   ]
  },
  {
   "cell_type": "code",
   "execution_count": 67,
   "metadata": {},
   "outputs": [
    {
     "data": {
      "text/plain": [
       "KMeans(algorithm='auto', copy_x=True, init='k-means++', max_iter=300,\n",
       "    n_clusters=4, n_init=10, n_jobs=1, precompute_distances='auto',\n",
       "    random_state=None, tol=0.0001, verbose=0)"
      ]
     },
     "execution_count": 67,
     "metadata": {},
     "output_type": "execute_result"
    }
   ],
   "source": [
    "kmeanModel"
   ]
  },
  {
   "cell_type": "code",
   "execution_count": 69,
   "metadata": {},
   "outputs": [
    {
     "name": "stdout",
     "output_type": "stream",
     "text": [
      "[0 0 0 0 0 0 0 2 2 0 0 2 0 0 0 0 2 0 0 2 2 0 2 0 2 2 0 2 0 0 0 0 0 0 0 0 2\n",
      " 0 2 1 0 0 0 0 0 0 0 0 0 2 0 0 0 0 0 0 0 2 2 0 0 0 0 0 0 2 0 2 0 0 0 2 0 2\n",
      " 0 2 0 0 0 0 0 1 0 0 0 2 0 0 2 0 0 0 0 2 0 0 0 0 0 2 0 0 0 0 0 0 2 2 0 0 0\n",
      " 0 2 0 0 0 0 0 0 0 2 0 0 2 0 2 0 2 2 0 2 0 0 0 2 2 0 0 2 2 2 2 0 2 2 0 0 0\n",
      " 0 0 0 2 2 2 0 2 2 2 2 0 2 2 0 0 0 0 2 0 0 0 2 0 0 0 0 0 0 0 0 0 0 0 0 0 0\n",
      " 0 0 0 0 0 2 0 0 0 2 0 0 0 0 0 0 0 0 2 2 0 2 2 0 0 0 0 2 0 2 0 2 0 2 2 0 2\n",
      " 0 0 0 2 2 0 0 0 2 2 0 0 0 2 2 0 0 0 0 3 0 0 0 2 0 1 0 0 0 0 0 0 0 0 0 0 0\n",
      " 0 0 0 0 0 0 0 0 0 0 0 0 0 0 0 0 0 0 0 0 0 0 0 0 0 0 0 0 0 0 0 0 0 0 0 0 0\n",
      " 0 0 0 0 0 0 0 0 0 0 0 0 0 0 0 0 0 0 0 0 0 0 0 0 0 0 0 0 0 2 0 0 0 0 0 0 0\n",
      " 0 0 0 0 0 0 0 0 0 1 0 0 0 0 0 0 0 0 0 0 0 0 0 0 0 0 0 0 0 0 0 0 0 0 0 2 0\n",
      " 0 0 0 0 0 0 0 0 0 0 0 0 0 0 0 0 0 0 0 2 0 2 0 0 2 0 2 0 0 0 2 2 0 0 0 0 0\n",
      " 2 0 0 2 0 2 0 0 0 0 0 0 0 0 0 0 2 2 2 0 0 0 0 0 2 0 2 0 0 0 0 2 0 0 0 0 0\n",
      " 0 2 0 2 0 2 0 0 0 0 0 0 0 0 0 2 0 0 0 0 2 0 0 2 0 0 0 0 0 0 0 0 0 0 0 0 0\n",
      " 0 0 2 0 0 2 0 0 2 0 0 0 0 2 2 0 0 0 0 0 0 0 0 0 0 0 0 0 2 0 0 0 0 0 0 0 0\n",
      " 0 0 0 0 0 0 0 0 0 0 0 0 0 0 0 0 0 0 0 0 0 0 0 0 0 0 0 0 0 0 0 0 0 0 0 0 0\n",
      " 0 0 0 0 0 0 0 0 0 0 0 0 0 0 0 0 0 0 0 0 0 0 0 0 0 0 0 0 0 2 0 0 0 0 0 0 0\n",
      " 0 0 0 0 0 0 0 0 0 0 0 0 0 0 0 0 0 0 0 0 0 0 0 0 0 0 0 0 0 0 0 0 0 0 0 0 0\n",
      " 0 0 0 0 0 0 0 0 0 0 0 0 0 0 0 0 0 0 0 0 0 0 0 0 0 0 0 0 0 0 0 0 0 0 0 0 0\n",
      " 0 0 0 0 0 0 0 0 0 0 0 0 0 0 0 0 0 0 0 0 0 0 0 0 0 0 0 0 0 0 0 0 0 0 0 0 0\n",
      " 0 0 0 0 0 0 0 0 0 0 0 0 0 0 0 0 0 0 0 0 0 0 0 0 0 0 0 0 0 0 0 0 0 0 0 0 0\n",
      " 0 0 0 0 0 0 0 0 0 0 0 0 0 0 0 0 0 0 0 0 0 0 0 0 0 0 0 0 0 0 0 0 0 0 0 0]\n"
     ]
    }
   ],
   "source": [
    "kmeanModel.fit_predict(X)  \n",
    "print(kmeanModel.labels_)"
   ]
  },
  {
   "cell_type": "code",
   "execution_count": 70,
   "metadata": {},
   "outputs": [],
   "source": [
    "from sklearn.decomposition import PCA\n",
    "pca = PCA(n_components=2).fit(X)\n",
    "pca_2d = pca.transform(X)"
   ]
  },
  {
   "cell_type": "code",
   "execution_count": 71,
   "metadata": {},
   "outputs": [
    {
     "data": {
      "image/png": "[encoded data removed]",
      "text/plain": [
       "<Figure size 432x288 with 1 Axes>"
      ]
     },
     "metadata": {},
     "output_type": "display_data"
    }
   ],
   "source": [
    "import pylab as pl\n",
    "for i in range(0, pca_2d.shape[0]):\n",
    "    if kmeanModel.labels_[i] == 1:\n",
    "        c1 = pl.scatter(pca_2d[i,0],pca_2d[i,1],c='r',marker='+')\n",
    "    elif kmeanModel.labels_[i] == 0:\n",
    "        c2 = pl.scatter(pca_2d[i,0],pca_2d[i,1],c='g',marker='o')\n",
    "    elif kmeanModel.labels_[i] == 2:\n",
    "        c3 = pl.scatter(pca_2d[i,0],pca_2d[i,1],c='b',marker='*')\n",
    "    elif kmeanModel.labels_[i] == 3:\n",
    "        c4 = pl.scatter(pca_2d[i,0],pca_2d[i,1],c='b',marker='^')\n",
    "pl.legend([c1, c2, c3,c4],['Cluster 1', 'Cluster 0','Cluster 2','Cluster 3'])\n",
    "pl.title('K-means clusters the dataset into 4 clusters')\n",
    "pl.show()"
   ]
  },
  {
   "cell_type": "markdown",
   "metadata": {},
   "source": [
    "### Part 3 "
   ]
  },
  {
   "cell_type": "code",
   "execution_count": 72,
   "metadata": {},
   "outputs": [
    {
     "name": "stdout",
     "output_type": "stream",
     "text": [
      "Train set has 543 samples.\n",
      "Testing set has 233 samples.\n"
     ]
    },
    {
     "name": "stderr",
     "output_type": "stream",
     "text": [
      "C:\\ProgramData\\Anaconda3\\lib\\site-packages\\sklearn\\cross_validation.py:41: DeprecationWarning: This module was deprecated in version 0.18 in favor of the model_selection module into which all the refactored classes and functions are moved. Also note that the interface of the new CV iterators are different from that of this module. This module will be removed in 0.20.\n",
      "  \"This module will be removed in 0.20.\", DeprecationWarning)\n"
     ]
    }
   ],
   "source": [
    "from sklearn.cross_validation import train_test_split\n",
    "X_train, X_test, y_train, y_test = train_test_split(new_data_imputed, target_transform, test_size = 0.3, random_state = 0)\n",
    "print(\"Train set has {} samples.\".format(X_train.shape[0]))\n",
    "print(\"Testing set has {} samples.\".format(X_test.shape[0]))"
   ]
  },
  {
   "cell_type": "code",
   "execution_count": 77,
   "metadata": {},
   "outputs": [
    {
     "name": "stdout",
     "output_type": "stream",
     "text": [
      "\n",
      "Random Forest Model accuracy: 0.9699570815450643\n"
     ]
    }
   ],
   "source": [
    "#RANDOM FOREST\n",
    "#Import Library\n",
    "from sklearn.ensemble import RandomForestClassifier #use RandomForestRegressor for regression problem\n",
    "from sklearn.metrics import fbeta_score, accuracy_score\n",
    "#Assumed you have, X (predictor) and Y (target) for training data set and x_test(predictor) of test_dataset\n",
    "X=new_data_imputed\n",
    "y=target_transform\n",
    "# Create Random Forest object\n",
    "Rmodel= RandomForestClassifier()\n",
    "# Train the model using the training sets and check score\n",
    "model.fit(X, y)\n",
    "#Predict Output\n",
    "predicted= model.predict(X_test)\n",
    "model_accuracy = accuracy_score(y_test, predicted)\n",
    "print(\"\\nRandom Forest Model accuracy:\", model_accuracy)"
   ]
  },
  {
   "cell_type": "code",
   "execution_count": 75,
   "metadata": {},
   "outputs": [
    {
     "name": "stdout",
     "output_type": "stream",
     "text": [
      "\n",
      "Gradient Boosting Model accuracy: 0.9184549356223176\n"
     ]
    }
   ],
   "source": [
    "#GRADIENT BOOSTING\n",
    "# TODO: Import a supervised learning model that has 'feature_importances_'\n",
    "from sklearn.ensemble import GradientBoostingClassifier\n",
    "\n",
    "# TODO: Train the supervised model on the training set \n",
    "model = GradientBoostingClassifier().fit(X_train, y_train)\n",
    "# show scores\n",
    "predictions = model.predict(X_test)\n",
    "model_accuracy = accuracy_score(y_test, predictions)\n",
    "print( \"\\nGradient Boosting Model accuracy:\", model_accuracy)"
   ]
  },
  {
   "cell_type": "code",
   "execution_count": 76,
   "metadata": {},
   "outputs": [
    {
     "name": "stdout",
     "output_type": "stream",
     "text": [
      "\n",
      "Adaptive boost Model accuracy: 0.9313304721030042\n"
     ]
    }
   ],
   "source": [
    "#ADAPTIVE BOOSTING\n",
    "# TODO: Import a supervised learning model that has 'feature_importances_'\n",
    "from sklearn.ensemble import AdaBoostClassifier\n",
    "\n",
    "# TODO: Train the supervised model on the training set \n",
    "model = AdaBoostClassifier().fit(X_train, y_train)\n",
    "\n",
    "# show scores\n",
    "predictions = model.predict(X_test)\n",
    "model_accuracy = accuracy_score(y_test, predictions)\n",
    "print( \"\\nAdaptive boost Model accuracy:\", model_accuracy)"
   ]
  },
  {
   "cell_type": "markdown",
   "metadata": {},
   "source": [
    "Random Forest Model have the best Accuraccy accuracy: 0.9828326180257511"
   ]
  },
  {
   "cell_type": "markdown",
   "metadata": {},
   "source": [
    "#### Feature Importance"
   ]
  },
  {
   "cell_type": "code",
   "execution_count": 88,
   "metadata": {},
   "outputs": [
    {
     "name": "stdout",
     "output_type": "stream",
     "text": [
      "\n",
      "Model accuracy: 0.9184549356223176 , fscore:  0.9293948126801153\n",
      "\n",
      " Top important features\n"
     ]
    },
    {
     "data": {
      "text/html": [
       "<div>\n",
       "<style scoped>\n",
       "    .dataframe tbody tr th:only-of-type {\n",
       "        vertical-align: middle;\n",
       "    }\n",
       "\n",
       "    .dataframe tbody tr th {\n",
       "        vertical-align: top;\n",
       "    }\n",
       "\n",
       "    .dataframe thead th {\n",
       "        text-align: right;\n",
       "    }\n",
       "</style>\n",
       "<table border=\"1\" class=\"dataframe\">\n",
       "  <thead>\n",
       "    <tr style=\"text-align: right;\">\n",
       "      <th></th>\n",
       "      <th>importances</th>\n",
       "      <th>features</th>\n",
       "    </tr>\n",
       "  </thead>\n",
       "  <tbody>\n",
       "    <tr>\n",
       "      <th>1</th>\n",
       "      <td>0.436497</td>\n",
       "      <td>PARA_A</td>\n",
       "    </tr>\n",
       "    <tr>\n",
       "      <th>3</th>\n",
       "      <td>0.227457</td>\n",
       "      <td>Money_Value</td>\n",
       "    </tr>\n",
       "    <tr>\n",
       "      <th>2</th>\n",
       "      <td>0.212884</td>\n",
       "      <td>PARA_B</td>\n",
       "    </tr>\n",
       "    <tr>\n",
       "      <th>0</th>\n",
       "      <td>0.123163</td>\n",
       "      <td>Sector_score</td>\n",
       "    </tr>\n",
       "  </tbody>\n",
       "</table>\n",
       "</div>"
      ],
      "text/plain": [
       "  importances      features\n",
       "1    0.436497        PARA_A\n",
       "3    0.227457   Money_Value\n",
       "2    0.212884        PARA_B\n",
       "0    0.123163  Sector_score"
      ]
     },
     "metadata": {},
     "output_type": "display_data"
    }
   ],
   "source": [
    "from sklearn.metrics import fbeta_score, accuracy_score\n",
    "from sklearn.ensemble import AdaBoostClassifier, RandomForestClassifier, GradientBoostingClassifier\n",
    "import visuals as vs\n",
    "\n",
    "# TODO: Train the supervised model on the training set \n",
    "model = GradientBoostingClassifier().fit(X_train, y_train)\n",
    "\n",
    "importances = model.feature_importances_\n",
    "\n",
    "\n",
    "# show scores\n",
    "predictions = model.predict(X_test)\n",
    "model_accuracy = accuracy_score(y_test, predictions)\n",
    "model_fscore = fbeta_score(y_test, predictions, beta=0.5)\n",
    "print( \"\\nModel accuracy:\", model_accuracy, \", fscore: \", model_fscore)\n",
    "\n",
    "# show most importance features\n",
    "a = np.array(importances)\n",
    "factors = pd.DataFrame(data = np.array([importances.astype(float), X.columns]).T,\n",
    "                       columns = ['importances', 'features'])\n",
    "factors = factors.sort_values('importances', ascending=False)\n",
    "\n",
    "print (\"\\n Top important features\")\n",
    "display(factors)"
   ]
  },
  {
   "cell_type": "markdown",
   "metadata": {},
   "source": [
    "So I tried Random forest, gradiant boost and adptive boost and the best accuracy is given by random forest"
   ]
  },
  {
   "cell_type": "markdown",
   "metadata": {},
   "source": [
    "#### Part 4"
   ]
  },
  {
   "cell_type": "code",
   "execution_count": 92,
   "metadata": {},
   "outputs": [
    {
     "name": "stdout",
     "output_type": "stream",
     "text": [
      "Unoptimized model\n",
      "------\n",
      "Accuracy score on testing data: 0.7082\n",
      "F-score on testing data: 0.7368\n",
      "\n",
      "Optimized Model\n",
      "------\n",
      "Final accuracy score on the testing data: 0.8455\n",
      "Final F-score on the testing data: 0.8668\n",
      "\n",
      "Best Classifier\n",
      "------\n",
      "LogisticRegression(C=100.0, class_weight=None, dual=False, fit_intercept=True,\n",
      "          intercept_scaling=1, max_iter=100, multi_class='ovr', n_jobs=1,\n",
      "          penalty='l2', random_state=101, solver='newton-cg', tol=0.0001,\n",
      "          verbose=0, warm_start=False)\n"
     ]
    },
    {
     "name": "stderr",
     "output_type": "stream",
     "text": [
      "C:\\ProgramData\\Anaconda3\\lib\\site-packages\\sklearn\\linear_model\\sag.py:326: ConvergenceWarning: The max_iter was reached which means the coef_ did not converge\n",
      "  \"the coef_ did not converge\", ConvergenceWarning)\n",
      "C:\\ProgramData\\Anaconda3\\lib\\site-packages\\sklearn\\linear_model\\sag.py:326: ConvergenceWarning: The max_iter was reached which means the coef_ did not converge\n",
      "  \"the coef_ did not converge\", ConvergenceWarning)\n",
      "C:\\ProgramData\\Anaconda3\\lib\\site-packages\\sklearn\\linear_model\\sag.py:326: ConvergenceWarning: The max_iter was reached which means the coef_ did not converge\n",
      "  \"the coef_ did not converge\", ConvergenceWarning)\n"
     ]
    }
   ],
   "source": [
    "# TODO: Import 'GridSearchCV', 'make_scorer', and any other necessary libraries\n",
    "from sklearn.grid_search import GridSearchCV\n",
    "from sklearn.metrics import make_scorer\n",
    "from sklearn.linear_model import LogisticRegression, SGDClassifier\n",
    "from sklearn.svm import LinearSVC, SVC\n",
    "from sklearn.ensemble import AdaBoostClassifier, GradientBoostingClassifier\n",
    "from sklearn.neighbors import KNeighborsClassifier\n",
    "from sklearn.naive_bayes import GaussianNB\n",
    "from sklearn.tree import DecisionTreeClassifier\n",
    "\n",
    "beta = 0.5\n",
    "\n",
    "# TODO: Initialize the classifier\n",
    "clf = LogisticRegression(random_state=101)\n",
    "\n",
    "# TODO: Create the parameters list you wish to tune\n",
    "parameters = {'solver': ['newton-cg', 'lbfgs', 'sag'],\n",
    "              'C': [0.01, 0.1, 1.0, 10.0, 100.0]\n",
    "             }\n",
    "\n",
    "# TODO: Make an fbeta_score scoring object\n",
    "scorer = make_scorer(fbeta_score, beta=beta)\n",
    "\n",
    "# TODO: Perform grid search on the classifier using 'scorer' as the scoring method\n",
    "grid_obj = GridSearchCV(clf, parameters, scoring=scorer)\n",
    "\n",
    "# TODO: Fit the grid search object to the training data and find the optimal parameters\n",
    "grid_fit = grid_obj.fit(X_train, y_train)\n",
    "\n",
    "# Get the estimator\n",
    "best_clf = grid_fit.best_estimator_\n",
    "\n",
    "# Make predictions using the unoptimized and model\n",
    "predictions = (clf.fit(X_train, y_train)).predict(X_test)\n",
    "best_predictions = best_clf.predict(X_test)\n",
    "\n",
    "# Report the before-and-afterscores\n",
    "print( \"Unoptimized model\\n------\")\n",
    "print( \"Accuracy score on testing data: {:.4f}\".format(accuracy_score(y_test, predictions)))\n",
    "print( \"F-score on testing data: {:.4f}\".format(fbeta_score(y_test, predictions, beta = 0.5)))\n",
    "print( \"\\nOptimized Model\\n------\")\n",
    "print( \"Final accuracy score on the testing data: {:.4f}\".format(accuracy_score(y_test, best_predictions)))\n",
    "print( \"Final F-score on the testing data: {:.4f}\".format(fbeta_score(y_test, best_predictions, beta = 0.5)))\n",
    "\n",
    "# show best parameters\n",
    "print (\"\\nBest Classifier\\n------\")\n",
    "print (best_clf)"
   ]
  },
  {
   "cell_type": "markdown",
   "metadata": {},
   "source": [
    "#### The Model is tune"
   ]
  },
  {
   "cell_type": "markdown",
   "metadata": {},
   "source": [
    "## ---------------------------------------------------- The End ----------------------------------------------------------- "
   ]
  }
 ],
 "metadata": {
  "kernelspec": {
   "display_name": "Python 3",
   "language": "python",
   "name": "python3"
  },
  "language_info": {
   "codemirror_mode": {
    "name": "ipython",
    "version": 3
   },
   "file_extension": ".py",
   "mimetype": "text/x-python",
   "name": "python",
   "nbconvert_exporter": "python",
   "pygments_lexer": "ipython3",
   "version": "3.7.3"
  }
 },
 "nbformat": 4,
 "nbformat_minor": 2
}
